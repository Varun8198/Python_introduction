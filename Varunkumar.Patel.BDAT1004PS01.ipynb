{
 "cells": [
  {
   "cell_type": "markdown",
   "id": "91bed412",
   "metadata": {},
   "source": [
    "# Problem Set 1:\n",
    "\n",
    "### SUbject: Data Programmin\n",
    "### Name: Varunkumar Patel\n",
    "### Student ID: 200558168\n",
    "### Instructor: Ethan Davis"
   ]
  },
  {
   "cell_type": "markdown",
   "id": "4f5c39ef",
   "metadata": {},
   "source": [
    "# Question 1\n",
    "## What data type is each of the following (evaluate where necessary)?"
   ]
  },
  {
   "cell_type": "code",
   "execution_count": 5,
   "id": "036eab74",
   "metadata": {},
   "outputs": [
    {
     "ename": "SyntaxError",
     "evalue": "invalid syntax. Perhaps you forgot a comma? (624519487.py, line 12)",
     "output_type": "error",
     "traceback": [
      "\u001b[1;36m  Cell \u001b[1;32mIn[5], line 12\u001b[1;36m\u001b[0m\n\u001b[1;33m    print(Pi) (the number)        #Invalid syntax. It is not a string expression\u001b[0m\n\u001b[1;37m               ^\u001b[0m\n\u001b[1;31mSyntaxError\u001b[0m\u001b[1;31m:\u001b[0m invalid syntax. Perhaps you forgot a comma?\n"
     ]
    }
   ],
   "source": [
    "print(5)   #Integer type\n",
    "print(5.0)     #Float number\n",
    "print(5 > 1)       #Boolean expression\n",
    "print('5')       #string type\n",
    "print(5 * 2)      #integer multiplicaton\n",
    "print('5' * 2)    #String: Output will be a '55'\n",
    "print('5' + '2') #String Concatenation\n",
    "print(5 / 2)    #Float number with output of 2.5\n",
    "print(5 % 2)     # Mode value or remainder\n",
    "print({5, 2, 1})   #representing a set.\n",
    "print(5 == 3)       #Boolean expression; it is checking either both are equal or not.\n",
    "print(Pi) (the number)        #Invalid syntax. It is not a string expression and math function is not imported."
   ]
  },
  {
   "cell_type": "markdown",
   "id": "7fd9d204",
   "metadata": {},
   "source": [
    "# Question 2\n",
    "### Write (and evaluate) python expressions that answer these questions:\n",
    "#### A. How many letters are there in 'Supercalifragilisticexpialidocious'?"
   ]
  },
  {
   "cell_type": "code",
   "execution_count": 10,
   "id": "bea0ce2d",
   "metadata": {},
   "outputs": [
    {
     "name": "stdout",
     "output_type": "stream",
     "text": [
      "The length of a string is:  34\n"
     ]
    }
   ],
   "source": [
    " a = 'Supercalifragilisticexpialidocious'\n",
    "print(\"The length of a string is: \", str(len(a)))"
   ]
  },
  {
   "cell_type": "markdown",
   "id": "420e9ba7",
   "metadata": {},
   "source": [
    "#### B. Does 'Supercalifragilisticexpialidocious' contain 'ice' as a substring? "
   ]
  },
  {
   "cell_type": "code",
   "execution_count": 14,
   "id": "93ac1334",
   "metadata": {},
   "outputs": [
    {
     "name": "stdout",
     "output_type": "stream",
     "text": [
      "The string does contains ice in it.\n"
     ]
    }
   ],
   "source": [
    "if ('ice' in a):\n",
    "    print(\"The string does contains ice in it.\")\n",
    "else:\n",
    "    print(\"The string doesn't contains ice in it.\")"
   ]
  },
  {
   "cell_type": "markdown",
   "id": "b9d86043",
   "metadata": {},
   "source": [
    "#### C. Which of the following words is the longest: Supercalifragilisticexpialidocious, Honorificabilitudinitatibus, or Bababadalgharaghtakamminarronnkonn?\n",
    " "
   ]
  },
  {
   "cell_type": "code",
   "execution_count": 2,
   "id": "c8dfe02d",
   "metadata": {},
   "outputs": [
    {
     "name": "stdout",
     "output_type": "stream",
     "text": [
      "Both the words Supercalifragilisticexpialidocious and Bababadalgharaghtakamminarronnkonn are equal\n"
     ]
    }
   ],
   "source": [
    "a = 'Supercalifragilisticexpialidocious'\n",
    "b = 'Honorificabilitudinitatibus'\n",
    "c = 'Bababadalgharaghtakamminarronnkonn'\n",
    "if (len(a)>len(b)):                  #check if a is greater than b\n",
    "    if (len(a)>len(c)):              #check if a is greater than c\n",
    "        print(\"The longest word is:\",a)\n",
    "    elif(len(a)<len(c)):             #check if a is less than c\n",
    "        print(\"The longest word is:\",c)\n",
    "    else:                            #check if both are equal then print the following\n",
    "        print(\"Both the words\",a,\"and\",c,\"are equal\")\n",
    "else:     \n",
    "    if (len(b)>len(c)):              # if b is greater than c then print \n",
    "        print(\"the longest word is:\",b)\n",
    "    else:                            #else check if c is greater than b\n",
    "        print(\"The longest word is:\",c)"
   ]
  },
  {
   "cell_type": "markdown",
   "id": "a76257c3",
   "metadata": {},
   "source": [
    "#### D. Which composer comes first in the dictionary: 'Berlioz', 'Borodin', 'Brian', 'Bartok', 'Bellini', 'Buxtehude', 'Bernstein'. Which one comes last?\n"
   ]
  },
  {
   "cell_type": "code",
   "execution_count": 8,
   "id": "b5ea30e8",
   "metadata": {},
   "outputs": [
    {
     "name": "stdout",
     "output_type": "stream",
     "text": [
      "The first artist in the list is: Berlioz\n",
      "The last artist in the list is: Bernstein\n"
     ]
    }
   ],
   "source": [
    "artist = ['Berlioz', 'Borodin', 'Brian', 'Bartok', 'Bellini', 'Buxtehude', 'Bernstein']\n",
    "print(\"The first artist in the list is:\",artist[0])\n",
    "print(\"The last artist in the list is:\",artist[-1])"
   ]
  },
  {
   "cell_type": "markdown",
   "id": "9623ad0b",
   "metadata": {},
   "source": [
    "# Question:3\n",
    "### Implement function triangleArea(a,b,c) that takes as input the lengths of the 3sides of a triangle and returns the area of the triangle. By Heron's formula, the area of a triangle with side lengths a, b, and c is squareroot of s(s - a)(s -b)(s -c) , where s = (a+b+c)/2. "
   ]
  },
  {
   "cell_type": "code",
   "execution_count": 24,
   "id": "226eb4f6",
   "metadata": {},
   "outputs": [],
   "source": [
    "import math\n",
    "def sides(a, b,c):\n",
    "    s = (a+b+c)/2\n",
    "    triangleArea = math.sqrt(s*(s-a)*(s-b)*(s-c))\n",
    "    return triangleArea"
   ]
  },
  {
   "cell_type": "code",
   "execution_count": 25,
   "id": "18daa4fc",
   "metadata": {},
   "outputs": [
    {
     "data": {
      "text/plain": [
       "1.7320508075688772"
      ]
     },
     "execution_count": 25,
     "metadata": {},
     "output_type": "execute_result"
    }
   ],
   "source": [
    "sides(2, 2, 2)"
   ]
  },
  {
   "cell_type": "markdown",
   "id": "2114cbbb",
   "metadata": {},
   "source": [
    "# Question:4\n",
    "## Write a program in python to separate odd and even integers in separate arrays.\n"
   ]
  },
  {
   "cell_type": "code",
   "execution_count": 34,
   "id": "f8796720",
   "metadata": {},
   "outputs": [
    {
     "name": "stdout",
     "output_type": "stream",
     "text": [
      "The even numbers are:  42 56 32\n",
      "The odd numbers are:   25 47\n"
     ]
    }
   ],
   "source": [
    "elements = [25,47,42,56,32]\n",
    "even = ''\n",
    "odd = ''\n",
    "for element in elements:\n",
    "    if (element%2 == 0):\n",
    "        even = even + ' '  + str(element) \n",
    "        \n",
    "    else:\n",
    "        odd = odd + ' ' + str(element) \n",
    "        \n",
    "print(\"The even numbers are:\",even)\n",
    "print(\"The odd numbers are: \", odd)"
   ]
  },
  {
   "cell_type": "markdown",
   "id": "b9829979",
   "metadata": {},
   "source": [
    "# Question 5:\n",
    "### a. Write a function inside(x,y,x1,y1,x2,y2) that returns True or False depending on whether the point (x,y) lies in the rectangle with lower left corner (x1,y1) and upper right corner (x2,y2)."
   ]
  },
  {
   "cell_type": "code",
   "execution_count": 50,
   "id": "bbb169a1",
   "metadata": {},
   "outputs": [],
   "source": [
    "def inside(x,y,x1,y1,x2,y2):\n",
    "    if (x1 < x < x2) and (y1 < y < y2):   #since it is rectangular limit I have used <=\n",
    "        return True\n",
    "    else:\n",
    "        return False"
   ]
  },
  {
   "cell_type": "code",
   "execution_count": 51,
   "id": "39ef9f29",
   "metadata": {},
   "outputs": [
    {
     "data": {
      "text/plain": [
       "True"
      ]
     },
     "execution_count": 51,
     "metadata": {},
     "output_type": "execute_result"
    }
   ],
   "source": [
    "inside(1,1,0,0,2,3)"
   ]
  },
  {
   "cell_type": "code",
   "execution_count": 52,
   "id": "ed48dd9b",
   "metadata": {},
   "outputs": [
    {
     "data": {
      "text/plain": [
       "False"
      ]
     },
     "execution_count": 52,
     "metadata": {},
     "output_type": "execute_result"
    }
   ],
   "source": [
    "inside(-1,-1,0,0,2,3)"
   ]
  },
  {
   "cell_type": "markdown",
   "id": "7f0a50ac",
   "metadata": {},
   "source": [
    "### b. Use function inside() from part a. to write an expression that tests whether the point (1,1) lies in both of the following rectangles: one with lower left corner (0.3, 0.5) and upper right corner (1.1, 0.7) and the other with lower left corner (0.5, 0.2) and upper right corner (1.1, 2)."
   ]
  },
  {
   "cell_type": "code",
   "execution_count": 53,
   "id": "a6bc0fc7",
   "metadata": {},
   "outputs": [
    {
     "data": {
      "text/plain": [
       "False"
      ]
     },
     "execution_count": 53,
     "metadata": {},
     "output_type": "execute_result"
    }
   ],
   "source": [
    "inside(1,1,0.3,0.5,1.1,0.7) #(x,y)=(1,1);(x1,y1)=(0.3,0.5);(x2,y2)=(1.1,0.7)"
   ]
  },
  {
   "cell_type": "code",
   "execution_count": 54,
   "id": "7e018a10",
   "metadata": {},
   "outputs": [
    {
     "data": {
      "text/plain": [
       "True"
      ]
     },
     "execution_count": 54,
     "metadata": {},
     "output_type": "execute_result"
    }
   ],
   "source": [
    "inside(1,1,0.5,0.2,1.1,2) #(x,y)=(1,1);(x1,y1)=(0.5,0.2);(x2,y2)=(1.1,2)"
   ]
  },
  {
   "cell_type": "markdown",
   "id": "3c0434d8",
   "metadata": {},
   "source": [
    "# Question 6:\n",
    "### You can turn a word into pig-Latin using the following two rules (simplified):\n",
    "### • If the word starts with a consonant, move that letter to the end and append'ay'. For example, 'happy' becomes 'appyhay' and 'pencil' becomes 'encilpay'.\n",
    "### • If the word starts with a vowel, simply append 'way' to the end of the word.\n",
    "### For example, 'enter' becomes 'enterway' and 'other' becomes 'otherway' . For\n",
    "### our purposes, there are 5 vowels: a, e, i, o, u (so we count y as a consonant).\n",
    "### Write a function pig() that takes a word (i.e., a string) as input and returns its pigLatin form. Your function should still work if the input word contains upper case\n",
    "### characters. Your output should always be lower case however. "
   ]
  },
  {
   "cell_type": "code",
   "execution_count": 48,
   "id": "99c55f75",
   "metadata": {},
   "outputs": [],
   "source": [
    "def pig(w):\n",
    "    w = w.lower()   #convert to lower-case\n",
    "    vowel = ['a', 'e', 'i', 'o', 'u']\n",
    "    if w[0] not in (vowel):\n",
    "        pigLatin = w[1:] + w[0] + 'ay'   #s[i:j] : the slice of s starting at index i and ending before index j\n",
    "    else:\n",
    "        pigLatin = w + 'way'\n",
    "    return pigLatin"
   ]
  },
  {
   "cell_type": "code",
   "execution_count": 49,
   "id": "f68528ee",
   "metadata": {},
   "outputs": [
    {
     "data": {
      "text/plain": [
       "'appyhay'"
      ]
     },
     "execution_count": 49,
     "metadata": {},
     "output_type": "execute_result"
    }
   ],
   "source": [
    "pig('happy')"
   ]
  },
  {
   "cell_type": "code",
   "execution_count": 50,
   "id": "c770b973",
   "metadata": {},
   "outputs": [
    {
     "data": {
      "text/plain": [
       "'enterway'"
      ]
     },
     "execution_count": 50,
     "metadata": {},
     "output_type": "execute_result"
    }
   ],
   "source": [
    "pig('Enter')"
   ]
  },
  {
   "cell_type": "markdown",
   "id": "02558886",
   "metadata": {},
   "source": [
    "# Question 7:\n",
    "### File bloodtype1.txt records blood-types of patients (A, B, AB, O or OO) at a clinic. Write a function bldcount() that reads the file with name name and reports (i.e., prints) how many patients there are in each bloodtype."
   ]
  },
  {
   "cell_type": "code",
   "execution_count": 149,
   "id": "c3520cf0",
   "metadata": {},
   "outputs": [],
   "source": [
    "def bldcount(name):\n",
    "    counter = {'A':0,'B':0,'AB':0,'O':0,'OO':0}\n",
    "    bldtype = name.split()\n",
    "    \n",
    "    for typ in bldtype:\n",
    "        \n",
    "        if typ in counter:\n",
    "            counter[typ] += 1\n",
    "        \n",
    "    return counter"
   ]
  },
  {
   "cell_type": "code",
   "execution_count": 150,
   "id": "62714aed",
   "metadata": {},
   "outputs": [
    {
     "data": {
      "text/plain": [
       "{'A': 15, 'B': 1, 'AB': 13, 'O': 15, 'OO': 0}"
      ]
     },
     "execution_count": 150,
     "metadata": {},
     "output_type": "execute_result"
    }
   ],
   "source": [
    "openfile = open('C:\\\\Users\\\\varun\\\\Downloads\\\\bloodtype.txt','r')\n",
    "bldcount(openfile.read())"
   ]
  },
  {
   "cell_type": "markdown",
   "id": "17d82cfb",
   "metadata": {},
   "source": [
    "# Question 8:\n",
    "### Write a function curconv() that takes as input:\n",
    "###        1. a currency represented using a string (e.g., 'JPY' for the Japanese Yen or 'EUR' for the Euro)\n",
    "###        2. an amount\n",
    "### and then converts and returns the amount in US dollars."
   ]
  },
  {
   "cell_type": "code",
   "execution_count": 256,
   "id": "6c8caf6f",
   "metadata": {},
   "outputs": [],
   "source": [
    "def curconv(currency, amount):\n",
    "    currate = {'AUD':1.0345157, 'CHF':1.0237414,'CNY':0.1550176,'DKK':0.1651442 ,'EUR':1.2296544,'GBP':1.5550989,'HKD':0.1270207,'INR':0.0177643,'JPY':0.01241401,'MXN':0.0751848,'MYR':0.3145411 ,'NOK':0.1677063,'NZD':0.8003591,'PHP':0.0233234,'SEK':0.148269,'SGD':0.788871,'THB':0.0313789}\n",
    "    if currency in currate:\n",
    "        usdconversion = currate[currency]*amount\n",
    "        \n",
    "    return usdconversion"
   ]
  },
  {
   "cell_type": "code",
   "execution_count": 257,
   "id": "8f3b7e66",
   "metadata": {},
   "outputs": [
    {
     "data": {
      "text/plain": [
       "122.96544"
      ]
     },
     "execution_count": 257,
     "metadata": {},
     "output_type": "execute_result"
    }
   ],
   "source": [
    "curconv('EUR',100)"
   ]
  },
  {
   "cell_type": "code",
   "execution_count": 258,
   "id": "fa9595f7",
   "metadata": {},
   "outputs": [
    {
     "data": {
      "text/plain": [
       "1.241401"
      ]
     },
     "execution_count": 258,
     "metadata": {},
     "output_type": "execute_result"
    }
   ],
   "source": [
    "curconv('JPY', 100)"
   ]
  },
  {
   "cell_type": "markdown",
   "id": "1d003d4f",
   "metadata": {},
   "source": [
    "# Question 9:\n",
    "### Each of the following will cause an exception (an error). Identify what type of exception each will cause."
   ]
  },
  {
   "cell_type": "code",
   "execution_count": null,
   "id": "0743de8b",
   "metadata": {},
   "outputs": [],
   "source": [
    "#Trying to add incompatible variables, as in\n",
    "6 + ‘a’   #unsupported operand type(s) for +: 'int' and 'str'\n",
    "\n",
    "#Referring to the 12th item of a list that has only 10 items.\n",
    "lst = [1,2,3,4,5,6,7,8,9,10]\n",
    "lst[12]   #list index out of range\n",
    "\n",
    "#Using a value that is out of range for a function’s input.\n",
    "import math\n",
    "math.sqrt(-1.0)  #math domain error\n",
    "\n",
    "\n",
    "#Using an undeclared variable, such as print(x)\n",
    "print(x)   #name 'x' is not defined\n",
    "\n",
    "\n",
    "#Trying to open a file that does not exist, such as mistyping the file name or looking in the wrong directory.\n",
    "open('sample.txt') #No such file or directory: 'sample.txt'"
   ]
  },
  {
   "cell_type": "markdown",
   "id": "2f8d80a3",
   "metadata": {},
   "source": [
    "# Question 10:\n",
    "### Encryption is the process of hiding the meaning of a text by substituting letters in the message with other letters, according to some system. If the process is successful, no one but the intended recipient can understand the encrypted message. Cryptanalysis refers to attempts to undo the encryption, even if some details of the encryption are unknown (for example, if an encrypted message has been intercepted). The first step of cryptanalysis is often to build up a table of letter frequencies in the encrypted text. \n",
    "### Assume that the string letters is already defined as 'abcdefghijklmnopqrstuvwxyz'. Write a function called frequencies()  that takes a string as its only parameter, and returns a list of integers, showing the number of times each character appears in the text. Your function may ignore any characters that are not in letters. "
   ]
  },
  {
   "cell_type": "code",
   "execution_count": 55,
   "id": "c7da637c",
   "metadata": {},
   "outputs": [],
   "source": [
    "def frequencies(itemList):\n",
    "    lowercase = itemList.lower()\n",
    "    letters = 'abcdefghijklmnopqrstuvwxyz'\n",
    "    counters = [0]*26  #creating a list of twenty six 0's using string copy function\n",
    "    for item in lowercase: #taking characters\n",
    "        if item in letters: #finding if the item is in the letters or not\n",
    "            indexofletter = letters.index(item)  # if it is in the letters then finding the index of it in letters\n",
    "            counters[indexofletter] += 1    #finally adding one to that indec of counter\n",
    "        else: \n",
    "            counters[indexofletter] = 1\n",
    "    return counters"
   ]
  },
  {
   "cell_type": "code",
   "execution_count": 56,
   "id": "220e721f",
   "metadata": {},
   "outputs": [
    {
     "data": {
      "text/plain": [
       "[1, 1, 1, 1, 1, 1, 1, 2, 1, 0, 1, 0, 1, 2, 4, 0, 1, 2, 0, 1, 1, 0, 1, 1, 0, 0]"
      ]
     },
     "execution_count": 56,
     "metadata": {},
     "output_type": "execute_result"
    }
   ],
   "source": [
    "frequencies('The quick red fox got bored and went home.')"
   ]
  },
  {
   "cell_type": "code",
   "execution_count": 57,
   "id": "c5efbba7",
   "metadata": {},
   "outputs": [
    {
     "data": {
      "text/plain": [
       "[1, 0, 0, 0, 1, 0, 0, 0, 0, 0, 0, 1, 0, 0, 0, 2, 0, 0, 0, 0, 0, 0, 0, 0, 0, 0]"
      ]
     },
     "execution_count": 57,
     "metadata": {},
     "output_type": "execute_result"
    }
   ],
   "source": [
    "frequencies('apple')"
   ]
  },
  {
   "cell_type": "markdown",
   "id": "5c8cdaf1",
   "metadata": {},
   "source": [
    "# End.\n",
    "## Thank you."
   ]
  }
 ],
 "metadata": {
  "kernelspec": {
   "display_name": "Python 3 (ipykernel)",
   "language": "python",
   "name": "python3"
  },
  "language_info": {
   "codemirror_mode": {
    "name": "ipython",
    "version": 3
   },
   "file_extension": ".py",
   "mimetype": "text/x-python",
   "name": "python",
   "nbconvert_exporter": "python",
   "pygments_lexer": "ipython3",
   "version": "3.10.9"
  }
 },
 "nbformat": 4,
 "nbformat_minor": 5
}
